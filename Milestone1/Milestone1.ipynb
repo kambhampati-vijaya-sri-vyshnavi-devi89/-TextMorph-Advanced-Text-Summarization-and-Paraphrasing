{
 "cells": [
  {
   "cell_type": "code",
   "execution_count": 19,
   "metadata": {},
   "outputs": [
    {
     "name": "stdout",
     "output_type": "stream",
     "text": [
      "Setup complete — all required packages installed, warnings and progress bars suppressed.\n"
     ]
    }
   ],
   "source": [
    "# Clean, Colab-friendly setup (no deprecated packages)\n",
    "!pip -q install transformers[sentencepiece] datasets rouge-score PyPDF2 sentencepiece nltk\n",
    "\n",
    "# Disable noisy output and warnings\n",
    "import os, warnings\n",
    "os.environ['HF_HUB_DISABLE_PROGRESS_BARS'] = '1'\n",
    "os.environ['TRANSFORMERS_NO_ADVISORY_WARNINGS'] = '1'\n",
    "os.environ['TOKENIZERS_PARALLELISM'] = 'false'\n",
    "warnings.filterwarnings('ignore')\n",
    "\n",
    "from transformers import logging as hf_logging\n",
    "hf_logging.set_verbosity_error()\n",
    "\n",
    "print(\"Setup complete — all required packages installed, warnings and progress bars suppressed.\")\n"
   ]
  },
  {
   "cell_type": "code",
   "execution_count": 6,
   "metadata": {},
   "outputs": [],
   "source": [
    "# Cell 2 — Imports & basic utilities\n",
    "import time\n",
    "import math\n",
    "import json\n",
    "from pathlib import Path\n",
    "from typing import List, Tuple\n",
    "import matplotlib.pyplot as plt\n",
    "\n",
    "# standard libs for PDFs and NLP\n",
    "import PyPDF2\n",
    "import nltk\n",
    "nltk.download('punkt', quiet=True)  # sentence tokenizer\n",
    "from nltk.tokenize import sent_tokenize\n",
    "\n",
    "# Hugging Face pipeline and tools\n",
    "from transformers import pipeline, AutoTokenizer, AutoModelForSeq2SeqLM\n",
    "\n",
    "# For evaluation\n",
    "from rouge_score import rouge_scorer\n",
    "\n",
    "# helper: read pages from PDF (1-indexed page numbers)\n",
    "def extract_text_from_pdf(path: str, start_page: int, end_page: int) -> str:\n",
    "    \"\"\"\n",
    "    Extract text from start_page to end_page inclusive.\n",
    "    Pages are 1-indexed (if you pass start_page=1 it's the first page).\n",
    "    \"\"\"\n",
    "    text_parts = []\n",
    "    with open(path, \"rb\") as f:\n",
    "        reader = PyPDF2.PdfReader(f)\n",
    "        num_pages = len(reader.pages)\n",
    "        # clamp\n",
    "        s = max(1, start_page)\n",
    "        e = min(end_page, num_pages)\n",
    "        for p in range(s-1, e):\n",
    "            page = reader.pages[p]\n",
    "            page_text = page.extract_text() or \"\"\n",
    "            text_parts.append(page_text)\n",
    "    return \"\\n\".join(text_parts)\n"
   ]
  },
  {
   "cell_type": "code",
   "execution_count": 7,
   "metadata": {},
   "outputs": [
    {
     "name": "stdout",
     "output_type": "stream",
     "text": [
      "Tanenbaum: True -> /content/sample_data/Andrew S. Tanenbaum - Computer Networks.pdf (pages 1–8)\n",
      "Neuroscience: True -> /content/sample_data/Neuroscience.pdf (pages 1–8)\n"
     ]
    }
   ],
   "source": [
    "# Cell 3 — File paths: show your uploaded PDFs and example start/end indexes\n",
    "# Change the start/end pages as needed.\n",
    "\n",
    "pdfs = {\n",
    "    \"Tanenbaum\": {\n",
    "        \"path\": \"/content/sample_data/Andrew S. Tanenbaum - Computer Networks.pdf\",\n",
    "        \"start_page\": 1,\n",
    "        \"end_page\": 8\n",
    "    },\n",
    "    \"Neuroscience\": {\n",
    "        \"path\": \"/content/sample_data/Neuroscience.pdf\",\n",
    "        \"start_page\": 1,\n",
    "        \"end_page\": 8\n",
    "    }\n",
    "}\n",
    "\n",
    "# Quick sanity check that files exist\n",
    "for name, info in pdfs.items():\n",
    "    p = Path(info[\"path\"])\n",
    "    print(f\"{name}: {p.exists()} -> {info['path']} (pages {info['start_page']}–{info['end_page']})\")\n"
   ]
  },
  {
   "cell_type": "code",
   "execution_count": 8,
   "metadata": {},
   "outputs": [
    {
     "name": "stdout",
     "output_type": "stream",
     "text": [
      "Tanenbaum: loaded 3129 characters\n",
      "Neuroscience: loaded 5084 characters\n"
     ]
    }
   ],
   "source": [
    "# Cell 4 — Load text from PDFs (using start/end indexes) into variables\n",
    "docs = {}\n",
    "for name, info in pdfs.items():\n",
    "    text = extract_text_from_pdf(info[\"path\"], info[\"start_page\"], info[\"end_page\"])\n",
    "    # basic cleaning\n",
    "    text = \"\\n\".join([line.strip() for line in text.splitlines() if line.strip()])\n",
    "    docs[name] = text[:200000]  # safety cap (don't push massive text into a single call)\n",
    "    print(f\"{name}: loaded {len(docs[name])} characters\")\n"
   ]
  },
  {
   "cell_type": "code",
   "execution_count": 10,
   "metadata": {},
   "outputs": [
    {
     "name": "stdout",
     "output_type": "stream",
     "text": [
      "Tanenbaum: 2 chunks (first chunk length 2657 chars)\n",
      "Neuroscience: 5 chunks (first chunk length 977 chars)\n"
     ]
    }
   ],
   "source": [
    "# Cell 5 — Chunking utility\n",
    "import nltk\n",
    "nltk.download('punkt', quiet=True)\n",
    "nltk.download('punkt_tab', quiet=True)\n",
    "\n",
    "def chunk_text(text: str, max_sentences: int = 12):\n",
    "    sents = nltk.sent_tokenize(text)\n",
    "    chunks = []\n",
    "    cur = []\n",
    "    for sent in sents:\n",
    "        cur.append(sent)\n",
    "        if len(cur) >= max_sentences:\n",
    "            chunks.append(\" \".join(cur))\n",
    "            cur = []\n",
    "    if cur:\n",
    "        chunks.append(\" \".join(cur))\n",
    "    return chunks\n",
    "\n",
    "# Example: show chunk count for each doc\n",
    "for name, text in docs.items():\n",
    "    chunks = chunk_text(text, max_sentences=10)\n",
    "    print(f\"{name}: {len(chunks)} chunks (first chunk length {len(chunks[0]) if chunks else 0} chars)\")\n"
   ]
  },
  {
   "cell_type": "code",
   "execution_count": 20,
   "metadata": {},
   "outputs": [
    {
     "name": "stdout",
     "output_type": "stream",
     "text": [
      " Using device: CPU\n",
      "\n",
      "Summarization Models:\n",
      "  t5-base              -> t5-base\n",
      "  bart-base            -> facebook/bart-base\n",
      "  pegasus-xsum         -> google/pegasus-xsum\n",
      "\n",
      "Paraphrasing Models:\n",
      "  t5-paraphrase        -> Vamsi/T5_Paraphrase_Paws\n",
      "  bart-paraphrase      -> eugenesiow/bart-paraphrase\n",
      "  pegasus-paraphrase   -> ramsrigouthamg/pegasus_paraphrase\n"
     ]
    }
   ],
   "source": [
    "# Cell 6 — Model configuration (Summarization + Paraphrasing)\n",
    "# -------------------------------------------------------------\n",
    "\n",
    "# Summarization models\n",
    "summ_models = {\n",
    "    \"t5-base\": \"t5-base\",\n",
    "    \"bart-base\": \"facebook/bart-base\",\n",
    "    \"pegasus-xsum\": \"google/pegasus-xsum\"\n",
    "}\n",
    "\n",
    "# Paraphrasing models\n",
    "# Note: community checkpoints used for paraphrasing\n",
    "paraphrase_models = {\n",
    "    \"t5-paraphrase\": \"Vamsi/T5_Paraphrase_Paws\",               # T5-based paraphrase\n",
    "    \"bart-paraphrase\": \"eugenesiow/bart-paraphrase\",           # BART-based paraphrase\n",
    "    \"pegasus-paraphrase\": \"ramsrigouthamg/pegasus_paraphrase\"  # Pegasus-based paraphrase\n",
    "}\n",
    "\n",
    "# Choose GPU if available\n",
    "import torch\n",
    "device = 0 if torch.cuda.is_available() else -1\n",
    "print(f\" Using device: {'GPU' if device==0 else 'CPU'}\")\n",
    "\n",
    "# Optional check\n",
    "print(\"\\nSummarization Models:\")\n",
    "for k, v in summ_models.items():\n",
    "    print(f\"  {k:20s} -> {v}\")\n",
    "\n",
    "print(\"\\nParaphrasing Models:\")\n",
    "for k, v in paraphrase_models.items():\n",
    "    print(f\"  {k:20s} -> {v}\")\n"
   ]
  },
  {
   "cell_type": "code",
   "execution_count": 21,
   "metadata": {},
   "outputs": [
    {
     "name": "stdout",
     "output_type": "stream",
     "text": [
      " Loading summarization models... please wait (this may take 1–2 min first time)\n",
      "→ t5-base: loading t5-base\n",
      "    t5-base ready.\n",
      "→ bart-base: loading facebook/bart-base\n",
      "    bart-base ready.\n",
      "→ pegasus-xsum: loading google/pegasus-xsum\n",
      "    pegasus-xsum ready.\n",
      "\n",
      " All summarization pipelines initialized.\n"
     ]
    }
   ],
   "source": [
    "# Cell 7 — Load summarization models (T5, BART, Pegasus)\n",
    "# ------------------------------------------------------\n",
    "\n",
    "from transformers import AutoTokenizer, AutoModelForSeq2SeqLM, pipeline\n",
    "\n",
    "summ_pipelines = {}\n",
    "\n",
    "print(\" Loading summarization models... please wait (this may take 1–2 min first time)\")\n",
    "\n",
    "for label, model_id in summ_models.items():\n",
    "    try:\n",
    "        print(f\"→ {label}: loading {model_id}\")\n",
    "        tok = AutoTokenizer.from_pretrained(model_id, use_fast=True)\n",
    "        m = AutoModelForSeq2SeqLM.from_pretrained(model_id)\n",
    "        summ_pipelines[label] = pipeline(\n",
    "            \"summarization\",\n",
    "            model=m,\n",
    "            tokenizer=tok,\n",
    "            device=device\n",
    "        )\n",
    "        print(f\"    {label} ready.\")\n",
    "    except Exception as e:\n",
    "        print(f\"   Failed to load {label}: {e}\")\n",
    "\n",
    "print(\"\\n All summarization pipelines initialized.\")\n"
   ]
  },
  {
   "cell_type": "code",
   "execution_count": 13,
   "metadata": {},
   "outputs": [
    {
     "name": "stdout",
     "output_type": "stream",
     "text": [
      "🔹 Loading paraphrasing models... please wait\n",
      "→ t5-paraphrase: loading Vamsi/T5_Paraphrase_Paws\n",
      "    t5-paraphrase ready.\n",
      "→ bart-paraphrase: loading eugenesiow/bart-paraphrase\n",
      "    bart-paraphrase ready.\n",
      "→ pegasus-paraphrase: loading ramsrigouthamg/pegasus_paraphrase\n",
      "   Failed to load pegasus-paraphrase: ramsrigouthamg/pegasus_paraphrase is not a local folder and is not a valid model identifier listed on 'https://huggingface.co/models'\n",
      "If this is a private repository, make sure to pass a token having permission to this repo either by logging in with `hf auth login` or by passing `token=<your_token>`\n",
      "\n",
      " All paraphrasing pipelines initialized.\n"
     ]
    }
   ],
   "source": [
    "# Cell 8 — Load paraphrasing models (T5, BART, Pegasus)\n",
    "# ------------------------------------------------------\n",
    "\n",
    "paraphrase_pipelines = {}\n",
    "\n",
    "print(\"🔹 Loading paraphrasing models... please wait\")\n",
    "\n",
    "for label, model_id in paraphrase_models.items():\n",
    "    try:\n",
    "        print(f\"→ {label}: loading {model_id}\")\n",
    "        tok = AutoTokenizer.from_pretrained(model_id, use_fast=True)\n",
    "        m = AutoModelForSeq2SeqLM.from_pretrained(model_id)\n",
    "        paraphrase_pipelines[label] = pipeline(\n",
    "            \"text2text-generation\",\n",
    "            model=m,\n",
    "            tokenizer=tok,\n",
    "            device=device\n",
    "        )\n",
    "        print(f\"    {label} ready.\")\n",
    "    except Exception as e:\n",
    "        print(f\"   Failed to load {label}: {e}\")\n",
    "\n",
    "print(\"\\n All paraphrasing pipelines initialized.\")\n"
   ]
  },
  {
   "cell_type": "code",
   "execution_count": 14,
   "metadata": {},
   "outputs": [
    {
     "name": "stdout",
     "output_type": "stream",
     "text": [
      " Running summarization on all documents and models...\n",
      "\n",
      " Document: Tanenbaum (2 chunks)\n",
      "→ Summarizing with t5-base ...\n"
     ]
    },
    {
     "data": {
      "application/vnd.jupyter.widget-view+json": {
       "model_id": "a635bab183264ce8a6701776fc3ca161",
       "version_major": 2,
       "version_minor": 0
      },
      "text/plain": [
       "t5-base:   0%|          | 0/2 [00:00<?, ?it/s]"
      ]
     },
     "metadata": {},
     "output_type": "display_data"
    },
    {
     "name": "stdout",
     "output_type": "stream",
     "text": [
      "    t5-base done in 25.0s | 335 chars\n",
      "→ Summarizing with bart-base ...\n"
     ]
    },
    {
     "data": {
      "application/vnd.jupyter.widget-view+json": {
       "model_id": "bd8d597ef015487f992d5756c8b3b4ff",
       "version_major": 2,
       "version_minor": 0
      },
      "text/plain": [
       "bart-base:   0%|          | 0/2 [00:00<?, ?it/s]"
      ]
     },
     "metadata": {},
     "output_type": "display_data"
    },
    {
     "name": "stdout",
     "output_type": "stream",
     "text": [
      "    bart-base done in 56.8s | 1672 chars\n",
      "→ Summarizing with pegasus-xsum ...\n"
     ]
    },
    {
     "data": {
      "application/vnd.jupyter.widget-view+json": {
       "model_id": "ee0a15c9eb504958933965e600618fbc",
       "version_major": 2,
       "version_minor": 0
      },
      "text/plain": [
       "pegasus-xsum:   0%|          | 0/2 [00:00<?, ?it/s]"
      ]
     },
     "metadata": {},
     "output_type": "display_data"
    },
    {
     "name": "stdout",
     "output_type": "stream",
     "text": [
      "    pegasus-xsum done in 26.9s | 294 chars\n",
      "\n",
      " Document: Neuroscience (5 chunks)\n",
      "→ Summarizing with t5-base ...\n"
     ]
    },
    {
     "data": {
      "application/vnd.jupyter.widget-view+json": {
       "model_id": "8c3274a054fc438e8480559721a23b45",
       "version_major": 2,
       "version_minor": 0
      },
      "text/plain": [
       "t5-base:   0%|          | 0/5 [00:00<?, ?it/s]"
      ]
     },
     "metadata": {},
     "output_type": "display_data"
    },
    {
     "name": "stdout",
     "output_type": "stream",
     "text": [
      "    t5-base done in 53.9s | 949 chars\n",
      "→ Summarizing with bart-base ...\n"
     ]
    },
    {
     "data": {
      "application/vnd.jupyter.widget-view+json": {
       "model_id": "ce886fd975ca40a783e45ea4320f6199",
       "version_major": 2,
       "version_minor": 0
      },
      "text/plain": [
       "bart-base:   0%|          | 0/5 [00:00<?, ?it/s]"
      ]
     },
     "metadata": {},
     "output_type": "display_data"
    },
    {
     "name": "stdout",
     "output_type": "stream",
     "text": [
      "    bart-base done in 116.7s | 3212 chars\n",
      "→ Summarizing with pegasus-xsum ...\n"
     ]
    },
    {
     "data": {
      "application/vnd.jupyter.widget-view+json": {
       "model_id": "4e0185a019264b1693b37e63c62785a8",
       "version_major": 2,
       "version_minor": 0
      },
      "text/plain": [
       "pegasus-xsum:   0%|          | 0/5 [00:00<?, ?it/s]"
      ]
     },
     "metadata": {},
     "output_type": "display_data"
    },
    {
     "name": "stdout",
     "output_type": "stream",
     "text": [
      "    pegasus-xsum done in 106.0s | 1291 chars\n"
     ]
    }
   ],
   "source": [
    "# Cell 9 — Run summarization for each document and model\n",
    "# ------------------------------------------------------\n",
    "\n",
    "import time\n",
    "from tqdm.notebook import tqdm\n",
    "from rouge_score import rouge_scorer\n",
    "\n",
    "# Initialize results dictionary\n",
    "results = {}\n",
    "\n",
    "# Initialize ROUGE scorer for later comparison\n",
    "scorer = rouge_scorer.RougeScorer(['rouge1', 'rouge2', 'rougeL'], use_stemmer=True)\n",
    "\n",
    "print(\" Running summarization on all documents and models...\")\n",
    "\n",
    "for doc_name, text in docs.items():\n",
    "    chunks = chunk_text(text, max_sentences=10)\n",
    "    results[doc_name] = {}\n",
    "\n",
    "    print(f\"\\n Document: {doc_name} ({len(chunks)} chunks)\")\n",
    "    for model_label, pipe in summ_pipelines.items():\n",
    "        print(f\"→ Summarizing with {model_label} ...\")\n",
    "        start_time = time.time()\n",
    "\n",
    "        summaries = []\n",
    "        for ch in tqdm(chunks, desc=f\"{model_label}\", leave=False):\n",
    "            try:\n",
    "                out = pipe(ch, max_length=150, min_length=30, truncation=True)[0]['summary_text']\n",
    "            except Exception:\n",
    "                out = pipe(ch, max_length=100, min_length=20, truncation=True)[0]['summary_text']\n",
    "            summaries.append(out)\n",
    "\n",
    "        total_summary = \"\\n\".join(summaries)\n",
    "        elapsed = time.time() - start_time\n",
    "\n",
    "        results[doc_name][model_label] = {\n",
    "            \"summary\": total_summary,\n",
    "            \"time_sec\": elapsed,\n",
    "            \"chunk_count\": len(chunks)\n",
    "        }\n",
    "\n",
    "        print(f\"    {model_label} done in {elapsed:.1f}s | {len(total_summary)} chars\")\n"
   ]
  },
  {
   "cell_type": "code",
   "execution_count": 15,
   "metadata": {},
   "outputs": [
    {
     "name": "stdout",
     "output_type": "stream",
     "text": [
      "\n",
      " Running paraphrasing on generated summaries...\n",
      "\n",
      " Document: Tanenbaum\n",
      "→ t5-base → paraphrased by t5-paraphrase\n"
     ]
    },
    {
     "data": {
      "application/vnd.jupyter.widget-view+json": {
       "model_id": "ebfff69c7dd9448b8c1ecc489999132b",
       "version_major": 2,
       "version_minor": 0
      },
      "text/plain": [
       "t5-paraphrase:   0%|          | 0/1 [00:00<?, ?it/s]"
      ]
     },
     "metadata": {},
     "output_type": "display_data"
    },
    {
     "name": "stdout",
     "output_type": "stream",
     "text": [
      "   Paraphrased by t5-paraphrase in 19.1s | 337 chars\n",
      "→ t5-base → paraphrased by bart-paraphrase\n"
     ]
    },
    {
     "data": {
      "application/vnd.jupyter.widget-view+json": {
       "model_id": "2400f191f40a40cf91205e310cadd636",
       "version_major": 2,
       "version_minor": 0
      },
      "text/plain": [
       "bart-paraphrase:   0%|          | 0/1 [00:00<?, ?it/s]"
      ]
     },
     "metadata": {},
     "output_type": "display_data"
    },
    {
     "name": "stdout",
     "output_type": "stream",
     "text": [
      "   Paraphrased by bart-paraphrase in 18.9s | 247 chars\n",
      "→ bart-base → paraphrased by t5-paraphrase\n"
     ]
    },
    {
     "data": {
      "application/vnd.jupyter.widget-view+json": {
       "model_id": "98931ffc95e74e28bfa31d5b1840cc14",
       "version_major": 2,
       "version_minor": 0
      },
      "text/plain": [
       "t5-paraphrase:   0%|          | 0/1 [00:00<?, ?it/s]"
      ]
     },
     "metadata": {},
     "output_type": "display_data"
    },
    {
     "name": "stdout",
     "output_type": "stream",
     "text": [
      "   Paraphrased by t5-paraphrase in 21.9s | 195 chars\n",
      "→ bart-base → paraphrased by bart-paraphrase\n"
     ]
    },
    {
     "data": {
      "application/vnd.jupyter.widget-view+json": {
       "model_id": "12d20427b614488cbddd53077f415f05",
       "version_major": 2,
       "version_minor": 0
      },
      "text/plain": [
       "bart-paraphrase:   0%|          | 0/1 [00:00<?, ?it/s]"
      ]
     },
     "metadata": {},
     "output_type": "display_data"
    },
    {
     "name": "stdout",
     "output_type": "stream",
     "text": [
      "   Paraphrased by bart-paraphrase in 44.3s | 484 chars\n",
      "→ pegasus-xsum → paraphrased by t5-paraphrase\n"
     ]
    },
    {
     "data": {
      "application/vnd.jupyter.widget-view+json": {
       "model_id": "360ef8a8bf5443b4844df5938c7e9559",
       "version_major": 2,
       "version_minor": 0
      },
      "text/plain": [
       "t5-paraphrase:   0%|          | 0/1 [00:00<?, ?it/s]"
      ]
     },
     "metadata": {},
     "output_type": "display_data"
    },
    {
     "name": "stdout",
     "output_type": "stream",
     "text": [
      "   Paraphrased by t5-paraphrase in 11.5s | 295 chars\n",
      "→ pegasus-xsum → paraphrased by bart-paraphrase\n"
     ]
    },
    {
     "data": {
      "application/vnd.jupyter.widget-view+json": {
       "model_id": "2293510ccfc44892aabd8a22cfe06bd1",
       "version_major": 2,
       "version_minor": 0
      },
      "text/plain": [
       "bart-paraphrase:   0%|          | 0/1 [00:00<?, ?it/s]"
      ]
     },
     "metadata": {},
     "output_type": "display_data"
    },
    {
     "name": "stdout",
     "output_type": "stream",
     "text": [
      "   Paraphrased by bart-paraphrase in 12.2s | 172 chars\n",
      "\n",
      " Document: Neuroscience\n",
      "→ t5-base → paraphrased by t5-paraphrase\n"
     ]
    },
    {
     "data": {
      "application/vnd.jupyter.widget-view+json": {
       "model_id": "b9ada7f6a17c4aa9b745e51776d2bd8e",
       "version_major": 2,
       "version_minor": 0
      },
      "text/plain": [
       "t5-paraphrase:   0%|          | 0/1 [00:00<?, ?it/s]"
      ]
     },
     "metadata": {},
     "output_type": "display_data"
    },
    {
     "name": "stdout",
     "output_type": "stream",
     "text": [
      "   Paraphrased by t5-paraphrase in 21.4s | 317 chars\n",
      "→ t5-base → paraphrased by bart-paraphrase\n"
     ]
    },
    {
     "data": {
      "application/vnd.jupyter.widget-view+json": {
       "model_id": "e688b001f7be4d55ba1c9a3226a4b475",
       "version_major": 2,
       "version_minor": 0
      },
      "text/plain": [
       "bart-paraphrase:   0%|          | 0/1 [00:00<?, ?it/s]"
      ]
     },
     "metadata": {},
     "output_type": "display_data"
    },
    {
     "name": "stdout",
     "output_type": "stream",
     "text": [
      "   Paraphrased by bart-paraphrase in 26.2s | 297 chars\n",
      "→ bart-base → paraphrased by t5-paraphrase\n"
     ]
    },
    {
     "data": {
      "application/vnd.jupyter.widget-view+json": {
       "model_id": "8f518c5522c248e9bd553b3d3ec2e9db",
       "version_major": 2,
       "version_minor": 0
      },
      "text/plain": [
       "t5-paraphrase:   0%|          | 0/2 [00:00<?, ?it/s]"
      ]
     },
     "metadata": {},
     "output_type": "display_data"
    },
    {
     "name": "stdout",
     "output_type": "stream",
     "text": [
      "   Paraphrased by t5-paraphrase in 46.9s | 650 chars\n",
      "→ bart-base → paraphrased by bart-paraphrase\n"
     ]
    },
    {
     "data": {
      "application/vnd.jupyter.widget-view+json": {
       "model_id": "fa193c655fcd43de953bd4804ea093ef",
       "version_major": 2,
       "version_minor": 0
      },
      "text/plain": [
       "bart-paraphrase:   0%|          | 0/2 [00:00<?, ?it/s]"
      ]
     },
     "metadata": {},
     "output_type": "display_data"
    },
    {
     "name": "stdout",
     "output_type": "stream",
     "text": [
      "   Paraphrased by bart-paraphrase in 81.1s | 670 chars\n",
      "→ pegasus-xsum → paraphrased by t5-paraphrase\n"
     ]
    },
    {
     "data": {
      "application/vnd.jupyter.widget-view+json": {
       "model_id": "2ae157587c9644b798f5a974a6068daa",
       "version_major": 2,
       "version_minor": 0
      },
      "text/plain": [
       "t5-paraphrase:   0%|          | 0/1 [00:00<?, ?it/s]"
      ]
     },
     "metadata": {},
     "output_type": "display_data"
    },
    {
     "name": "stdout",
     "output_type": "stream",
     "text": [
      "   Paraphrased by t5-paraphrase in 20.9s | 429 chars\n",
      "→ pegasus-xsum → paraphrased by bart-paraphrase\n"
     ]
    },
    {
     "data": {
      "application/vnd.jupyter.widget-view+json": {
       "model_id": "e1db2d83e3d349bba0fe6297e6a10da0",
       "version_major": 2,
       "version_minor": 0
      },
      "text/plain": [
       "bart-paraphrase:   0%|          | 0/1 [00:00<?, ?it/s]"
      ]
     },
     "metadata": {},
     "output_type": "display_data"
    },
    {
     "name": "stdout",
     "output_type": "stream",
     "text": [
      "   Paraphrased by bart-paraphrase in 14.4s | 154 chars\n"
     ]
    }
   ],
   "source": [
    "# Cell 10 — Run paraphrasing for all summaries\n",
    "# --------------------------------------------\n",
    "\n",
    "print(\"\\n Running paraphrasing on generated summaries...\")\n",
    "\n",
    "paraphrase_results = {}\n",
    "\n",
    "for doc_name in results:\n",
    "    paraphrase_results[doc_name] = {}\n",
    "    print(f\"\\n Document: {doc_name}\")\n",
    "\n",
    "    for summ_model, summ_data in results[doc_name].items():\n",
    "        summary_text = summ_data[\"summary\"]\n",
    "        paraphrase_results[doc_name][summ_model] = {}\n",
    "\n",
    "        for para_label, para_pipe in paraphrase_pipelines.items():\n",
    "            print(f\"→ {summ_model} → paraphrased by {para_label}\")\n",
    "            start_time = time.time()\n",
    "\n",
    "            # Chunk long summaries to prevent truncation\n",
    "            parts = [summary_text[i:i+1800] for i in range(0, len(summary_text), 1800)]\n",
    "            paraphrased_parts = []\n",
    "\n",
    "            for p in tqdm(parts, desc=f\"{para_label}\", leave=False):\n",
    "                try:\n",
    "                    output = para_pipe(p, max_length=512, truncation=True)[0]\n",
    "                    text = output.get('generated_text') or output.get('summary_text') or str(output)\n",
    "                except Exception as e:\n",
    "                    text = f\"[ERROR: {str(e)}]\"\n",
    "                paraphrased_parts.append(text)\n",
    "\n",
    "            full_paraphrase = \"\\n\".join(paraphrased_parts)\n",
    "            elapsed = time.time() - start_time\n",
    "\n",
    "            paraphrase_results[doc_name][summ_model][para_label] = {\n",
    "                \"paraphrase\": full_paraphrase,\n",
    "                \"time_sec\": elapsed\n",
    "            }\n",
    "\n",
    "            print(f\"   Paraphrased by {para_label} in {elapsed:.1f}s | {len(full_paraphrase)} chars\")\n"
   ]
  },
  {
   "cell_type": "code",
   "execution_count": 22,
   "metadata": {},
   "outputs": [
    {
     "name": "stdout",
     "output_type": "stream",
     "text": [
      "\n",
      "🔹 Evaluating model performance (ROUGE + time + length)...\n",
      "\n",
      " Evaluation Results — Tanenbaum\n",
      "Model                |     R1 |     R2 |     RL |  Time(s) |   Length\n",
      "----------------------------------------------------------------------\n",
      "t5-base              | 0.172 | 0.136 | 0.164 | 25.0 | 335\n",
      "bart-base            | 0.475 | 0.378 | 0.460 | 56.8 | 1672\n",
      "pegasus-xsum         | 0.118 | 0.016 | 0.073 | 26.9 | 294\n",
      "\n",
      " Evaluation Results — Neuroscience\n",
      "Model                |     R1 |     R2 |     RL |  Time(s) |   Length\n",
      "----------------------------------------------------------------------\n",
      "t5-base              | 0.307 | 0.249 | 0.226 | 53.9 | 949\n",
      "bart-base            | 0.667 | 0.539 | 0.536 | 116.7 | 3212\n",
      "pegasus-xsum         | 0.211 | 0.054 | 0.138 | 106.0 | 1291\n"
     ]
    }
   ],
   "source": [
    "# Cell 11 — Evaluate summarization performance using ROUGE\n",
    "# --------------------------------------------------------\n",
    "\n",
    "print(\"\\n🔹 Evaluating model performance (ROUGE + time + length)...\")\n",
    "\n",
    "eval_results = {}\n",
    "\n",
    "for doc_name, text in docs.items():\n",
    "    eval_results[doc_name] = {}\n",
    "    ref = \" \".join(sent_tokenize(text)[:40])  # take first 40 sentences as reference\n",
    "\n",
    "    for model_label, data in results[doc_name].items():\n",
    "        summary = data[\"summary\"]\n",
    "        scores = scorer.score(ref, summary)\n",
    "\n",
    "        eval_results[doc_name][model_label] = {\n",
    "            \"ROUGE-1\": scores[\"rouge1\"].fmeasure,\n",
    "            \"ROUGE-2\": scores[\"rouge2\"].fmeasure,\n",
    "            \"ROUGE-L\": scores[\"rougeL\"].fmeasure,\n",
    "            \"Time (s)\": data[\"time_sec\"],\n",
    "            \"Length\": len(summary)\n",
    "        }\n",
    "\n",
    "# Display results neatly\n",
    "for doc_name, models in eval_results.items():\n",
    "    print(f\"\\n Evaluation Results — {doc_name}\")\n",
    "    print(f\"{'Model':20s} | {'R1':>6s} | {'R2':>6s} | {'RL':>6s} | {'Time(s)':>8s} | {'Length':>8s}\")\n",
    "    print(\"-\"*70)\n",
    "    for m, v in models.items():\n",
    "        print(f\"{m:20s} | {v['ROUGE-1']:.3f} | {v['ROUGE-2']:.3f} | {v['ROUGE-L']:.3f} | {v['Time (s)']:.1f} | {v['Length']}\")\n"
   ]
  },
  {
   "cell_type": "code",
   "execution_count": 17,
   "metadata": {},
   "outputs": [
    {
     "data": {
      "image/png": "[encoded data removed]",
      "text/plain": [
       "<Figure size 1400x400 with 3 Axes>"
      ]
     },
     "metadata": {},
     "output_type": "display_data"
    },
    {
     "data": {
      "image/png": "[encoded data removed]",
      "text/plain": [
       "<Figure size 1400x400 with 3 Axes>"
      ]
     },
     "metadata": {},
     "output_type": "display_data"
    }
   ],
   "source": [
    "# Cell 12 — Visualize model performance\n",
    "# -------------------------------------\n",
    "\n",
    "import matplotlib.pyplot as plt\n",
    "\n",
    "for doc_name, vals in eval_results.items():\n",
    "    labels = list(vals.keys())\n",
    "    rouge1 = [vals[m]['ROUGE-1'] for m in labels]\n",
    "    rouge2 = [vals[m]['ROUGE-2'] for m in labels]\n",
    "    rougeL = [vals[m]['ROUGE-L'] for m in labels]\n",
    "    times = [vals[m]['Time (s)'] for m in labels]\n",
    "    lengths = [vals[m]['Length'] for m in labels]\n",
    "\n",
    "    plt.figure(figsize=(14, 4))\n",
    "    plt.suptitle(f\" Model Comparison — {doc_name}\", fontsize=14, weight='bold')\n",
    "\n",
    "    # ROUGE-1\n",
    "    plt.subplot(1, 3, 1)\n",
    "    plt.bar(labels, rouge1)\n",
    "    plt.title(\"ROUGE-1 (F1)\")\n",
    "    plt.xticks(rotation=25)\n",
    "\n",
    "    # Time\n",
    "    plt.subplot(1, 3, 2)\n",
    "    plt.bar(labels, times)\n",
    "    plt.title(\"Generation Time (s)\")\n",
    "    plt.xticks(rotation=25)\n",
    "\n",
    "    # Length\n",
    "    plt.subplot(1, 3, 3)\n",
    "    plt.bar(labels, lengths)\n",
    "    plt.title(\"Summary Length (chars)\")\n",
    "    plt.xticks(rotation=25)\n",
    "\n",
    "    plt.tight_layout()\n",
    "    plt.show()\n"
   ]
  },
  {
   "cell_type": "code",
   "execution_count": 18,
   "metadata": {},
   "outputs": [
    {
     "data": {
      "text/html": [
       "<h2> TextMorph Summaries & Paraphrases</h2><h3> Document: Tanenbaum</h3><h4>Summaries:</h4><b>t5-base</b><br><pre style='background:#f7f7f7;padding:10px;border-radius:8px'>andrew s. tanenbaum, David J. Wetherall, Tracy Dunkelberger . many of the designations by manufacturers and sellers to distinguish their products are claimed as trademarks . the textbook is protected by Copyright . p.c. includes bibliographical references and index . this page intentionally left blank . cnn.com: http://www.crw.org/ .</pre><b>bart-base</b><br><pre style='background:#f7f7f7;padding:10px;border-radius:8px'>This page intentionally left blank UNCLASSIFIEDCOMPUTER NETWORKS UNCLASSIFIEDFIFTH EDITION======This page intentional left blank======COMPUTTER NETWORKSCLASSIFIEDFIFth EDITION======HAGERSTONEHALL======HIGHLANDREW S. TANENBAUMFilenameVrije Universiteit Amsterdam Amsterdam Amsterdam, The NetherlandsFilenameDavid J. WETHERALLFilenameUniversity of WashingtonFilenameSeattle, WAFilenamePRENTICE HALLFilenameBoston Columbus Indianapolis New York San Francisco Upper Saddle RiverFilenameDelhi Mexico City Sao Paulo Sydney Hong Kong Seoul Singapore Tapei TokyoFilenameEditorial Director :  Marcia HortonFilenameEditor-in-Chief :  Michael HirschFilenameExecutive Editor :  Tracy DunkelbergerFilenameAssistant Editors :  Melinda HaggertyTextColorEditorial Assistant :  Allison MichaelTextColorVice President, ... [truncated]</pre><b>pegasus-xsum</b><br><pre style='background:#f7f7f7;padding:10px;border-radius:8px'>This page has been deliberately left blank to avoid any appearance of copyright infringement or any other violation of applicable laws or the terms of use of this textbook. Proceedings of the annual meeting of the Association for Science and Technology (AST) in London, 23-25 May 2010... (eds.)</pre><h4>Paraphrases:</h4><b>t5-base → t5-paraphrase</b><br><pre style='background:#eef7ff;padding:10px;border-radius:8px'>andrew s. tanenbaum , David J. Wetherall , Tracy Dunkelberger . many of the designations by manufacturers and sellers to distinguish their products are claimed as trademarks . the textbook is protected by copyright . p.c. includes bibliographical references and index . this page intentionally left blank . cnn.com: http://www.crw.org/ .</pre><b>t5-base → bart-paraphrase</b><br><pre style='background:#eef7ff;padding:10px;border-radius:8px'>andrew s. tanenbaum, David J. Wetherall, Tracy Dunkelberger. This page intentionally left blank. Many of the designations by manufacturers and sellers to distinguish their products are claimed as trademarks. The textbook is protected by copyright.</pre><b>bart-base → t5-paraphrase</b><br><pre style='background:#eef7ff;padding:10px;border-radius:8px'>ISBN-13: 978-0-13-212695-3 (alk. paper) ISBN-10: 0-13_2126958 (alk.) 1. Computer networks. I. Wetherall (David) II. Title. TK5105.5.T36 2011 004.6--dc22-2010034366-1—14 13 12 11 10 15 14 19 20 21</pre><b>bart-base → bart-paraphrase</b><br><pre style='background:#eef7ff;padding:10px;border-radius:8px'>This page intentionally left blank UNCLASSIFIEDCOMPUTER NETWORKS UNCLASSIFIEDFIFTH EDITION======This page intentional left blank======COMPUTTER NETWORKSCLASSIFIEDFIFth EDITION======HIGHLANDREW S. I. Wetherall, D. C. TANENBAUMFilenameVrije Universiteit Amsterdam Amsterdam, The NetherlandsFilenameMarketing Manager :  Yezan AlayanTextColorMarking Coordinator :  Kathryn FerrantiTextColorVice Vice President, Production :  Marcia HortonFilename Editor-in-Chief :  Michael HirschFilename</pre><b>pegasus-xsum → t5-paraphrase</b><br><pre style='background:#eef7ff;padding:10px;border-radius:8px'>This page has been deliberately left blank to avoid any appearance of copyright infringement or any other violation of applicable laws or the terms of use of this textbook . Proceedings of the Annual Meeting of the Association for Science and Technology (AST) in London, 23-25 May 2010... (eds.)</pre><b>pegasus-xsum → bart-paraphrase</b><br><pre style='background:#eef7ff;padding:10px;border-radius:8px'>This page has been deliberately left blank to avoid any appearance of copyright infringement or any other violation of applicable laws or the terms of use of this textbook.</pre><h3> Document: Neuroscience</h3><h4>Summaries:</h4><b>t5-base</b><br><pre style='background:#f7f7f7;padding:10px;border-radius:8px'>this book may not be reproduced in whole or in part without permission . Dale Purves ... [et al.] is the third ed. in this series . I. Purves, Dale. QP355.2.N487 2004612.8—dc22 2004003973 Printed in U.S.A. iv George J. Augustine, Ph.D. Voltage-Dependent Membrane Permeability 474. Channels and Transporters 695. Synaptic Transmission 936. the Visceral Motor System 469 UNIT IV THE CHANGING BRAIN 21. Early Brain Development 50122. Construction of Neural Circuits 52123. Chapter 1 Studying the Nervous Systems of Humans and Other Animals . Chapter 2 Electrical Signals of Nerve Cells 31 Overview 31Ionic Movements produce electrical signals 34The Forces That Create Membrane Potentials 36Electrochemical Equilibrium in an Environment with More Than One Permeant Ion 38Ionic Currents Across Nerve Membr ... [truncated]</pre><b>bart-base</b><br><pre style='background:#f7f7f7;padding:10px;border-radius:8px'>NEUROSCIENCE: Third EditionThird EditEdited byDALE PURVESPurves3/eFM  5/13/04  12:59 PM  Page i-IIIEdited byS. M ARK WILLIAMSPurves4/eAMPurves2/EFMPurves1/eEMPurves5/ePM  5-13/05  12.59 PM … Page ii-III Edited byDALEPURVES4/EAMPAGEORGE J. A UGUSTINE -DAVIDFITZPATRICK FITZWILLIAM C. H ALLANTHONY -SAMUEL LAMANTIA -JAMES O. M CNAMARA -S.M ARK WILSONEdited by S.MARTHONY-SARAH-S. SARAHEdited by JAMES O'MARARASinauer Associates, Inc. • PublishersSunderland, Massachusetts U.S.A.Sinauer4/AMAM PurvesPurves6/EEM Purves1-eFMPurve3/EPM 5/13//04  10:59 AM  Page iii-III______________________________________________NEUR 2. Neurochemistry. WL 102 N50588  2004]  I. Purves, Dale. QP355.2.N487 2004612.8—dc22 2004003973  2004Printed in U.S.A.5  4  3  2  1THE COVERDorsal view of the human brain. (Courtesy of S ... [truncated]</pre><b>pegasus-xsum</b><br><pre style='background:#f7f7f7;padding:10px;border-radius:8px'>The third edition of Neuroscience is published by Sinauer Associates, Inc., a division of the University of Massachusetts Medical School, and is available online at www.sinauerassociates.com. The study of the nervous systems of humans and other animals is of great importance to our understanding of the world around us, and our ability to control it. The following is a list of the most recent scientific papers published in the journal Neuron: Physiology of the nervous system and the nervous system of the brain. The following papers have been published in the journal Neuron in the past year: UNIT I The Motor System 469 UNIT I The Motor System 469 UNIT II The Motor System 469 UNIT II The Motor System 469 UNIT II The Motor System 469 UNIT II The Motor System 469 UNIT II The Motor System 469 UN ... [truncated]</pre><h4>Paraphrases:</h4><b>t5-base → t5-paraphrase</b><br><pre style='background:#eef7ff;padding:10px;border-radius:8px'>This book may not be reproduced in whole or in part without permission . Dale Purves ... [et al. ] is the third ed. in this series . I. Purves , Dale. QP355.2.N487 2004612.8—dc22 2004003973 Printed in the U.S.A. iv George J. Augustine , Ph.D. Voltage-dependent membrane permeability 474. Channels and transporters 695</pre><b>t5-base → bart-paraphrase</b><br><pre style='background:#eef7ff;padding:10px;border-radius:8px'>This book may not be reproduced in whole or in part without permission : Chapter 2 Electrical Signals of Nerve Cells 31 Overview 31Electrochemical Equilibrium in an Environment with More Than One Permeant Ion 38Ionic Currents Across Nerve Membranes 47 BOXBAction Potential Form and Nomenclature 44</pre><b>bart-base → t5-paraphrase</b><br><pre style='background:#eef7ff;padding:10px;border-radius:8px'>NEUROSCIENCE: Third EditionEdited byDALE PURVESPurves3/eFM 5/13/04 12:59 PM Page i-IIIEdited byS. M ARK WILLIAMSPurves4/eAMPurves2/EFMPurves1/eEMPurves5/ePM 5/13//04 10:59 PM Page iii-III_____________________________________________NEUR 2. Neurochemistry. WL 102 N50 viiSCPChapter 1 Studying the Nervous Systems of Humans and Other Animals 1SCPBOXABrain Imaging Techniques 1SCPUnit I Neural Systems 1SCPOverview 1Genetics, Genomics and the Brain 1The Cellular Components of the Nationalervous System 2Neurons 4Neuroglial Cells 8Cellular Diversity in the Nerve System 9Neural Circuits 11Overall Organization of the Human Nervosystem 14SCPBOXBThreshold</pre><b>bart-base → bart-paraphrase</b><br><pre style='background:#eef7ff;padding:10px;border-radius:8px'>Dale Purves: Third Edition edited by DALEPURVES4/EAMPAGEORGE J. A UGUSTINE -DAVID FITZWILLIAM C. PURVES. Nervous Systems of Humans and Other Animals 2.2. QP355.1.3.5.5 UNIT II SENSATION and SENSORY PROCESSING 1.8.0.0 : The Vision: The Eye 31911.9.2 : 3.5 : 2. The Visceral Motor System 46920. Upper Motor Neurons and Motor Motor Control of the Brainstem and Spinal Cord 39317. Sex, Sexuality and the Brain 71130. Modulation of the Movement by Basal Ganglia 55724. Language and Speech 63727. Memory 733APPENDIX B VASCULAR SUPPLY, the MENINGES and the VENTRICULAR SYSTEM 11Overall Organization of the Human Nervosystem 14SCPSCPSCPBOXASCPIX V COMPLEX BRAIN FUNCTIONS 61325.</pre><b>pegasus-xsum → t5-paraphrase</b><br><pre style='background:#eef7ff;padding:10px;border-radius:8px'>The following papers have been published in the journal Neuron in the past year: UNIT I The Motor System 469 UNIT I The Motor System 469 UNIT II The Motor System 469 UNIT II The Motor System 469 UNIT II The Motor System 469 UNIT II The Motor System 469 UNIT II The Motor System 469 UNIT II The Motor System 469 UNIT II The Motor System 469 UNIT II The Motor System 469 UNIT II The Motor System 469 UNIT II The Motor System 469 UN</pre><b>pegasus-xsum → bart-paraphrase</b><br><pre style='background:#eef7ff;padding:10px;border-radius:8px'>The following is a list of the most recent papers published in the journal Neuron: Physiology of the Human System and the nervous system of other animals.</pre><p> All outputs saved in <code>/content/textmorph_outputs</code></p>"
      ],
      "text/plain": [
       "<IPython.core.display.HTML object>"
      ]
     },
     "metadata": {},
     "output_type": "display_data"
    }
   ],
   "source": [
    "# Cell 13 — Display and Save all Summaries and Paraphrases\n",
    "# --------------------------------------------------------\n",
    "\n",
    "from pathlib import Path\n",
    "from IPython.display import display, HTML\n",
    "\n",
    "output_dir = Path(\"/content/textmorph_outputs\")\n",
    "output_dir.mkdir(parents=True, exist_ok=True)\n",
    "\n",
    "def format_preview(text, max_chars=800):\n",
    "    \"\"\"Return a clean preview with truncation for readability.\"\"\"\n",
    "    text = text.strip().replace('\\n', ' ')\n",
    "    if len(text) > max_chars:\n",
    "        return text[:max_chars] + \" ... [truncated]\"\n",
    "    return text\n",
    "\n",
    "html_output = \"<h2> TextMorph Summaries & Paraphrases</h2>\"\n",
    "\n",
    "for doc_name, model_data in results.items():\n",
    "    html_output += f\"<h3> Document: {doc_name}</h3>\"\n",
    "\n",
    "    # --- Summaries ---\n",
    "    html_output += \"<h4>Summaries:</h4>\"\n",
    "    for model_label, data in model_data.items():\n",
    "        summary = data['summary']\n",
    "        fname = output_dir / f\"{doc_name}__{model_label}__summary.txt\"\n",
    "        fname.write_text(summary, encoding='utf-8')\n",
    "\n",
    "        html_output += f\"<b>{model_label}</b><br>\"\n",
    "        html_output += f\"<pre style='background:#f7f7f7;padding:10px;border-radius:8px'>{format_preview(summary)}</pre>\"\n",
    "\n",
    "    # --- Paraphrases ---\n",
    "    html_output += \"<h4>Paraphrases:</h4>\"\n",
    "    for summ_model, para_data in paraphrase_results[doc_name].items():\n",
    "        for para_model, pinfo in para_data.items():\n",
    "            paraphrase_text = pinfo['paraphrase']\n",
    "            fname = output_dir / f\"{doc_name}__{summ_model}__paraphrased_by__{para_model}.txt\"\n",
    "            fname.write_text(paraphrase_text, encoding='utf-8')\n",
    "\n",
    "            html_output += f\"<b>{summ_model} → {para_model}</b><br>\"\n",
    "            html_output += f\"<pre style='background:#eef7ff;padding:10px;border-radius:8px'>{format_preview(paraphrase_text)}</pre>\"\n",
    "\n",
    "html_output += f\"<p> All outputs saved in <code>{output_dir}</code></p>\"\n",
    "\n",
    "display(HTML(html_output))\n"
   ]
  }
 ],
 "metadata": {
  "language_info": {
   "name": "python"
  }
 },
 "nbformat": 4,
 "nbformat_minor": 0
}
